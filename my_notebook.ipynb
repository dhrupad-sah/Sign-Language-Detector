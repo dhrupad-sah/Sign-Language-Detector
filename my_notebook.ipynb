{
 "cells": [
  {
   "cell_type": "code",
   "execution_count": 1,
   "id": "initial_id",
   "metadata": {
    "collapsed": true,
    "ExecuteTime": {
     "end_time": "2023-10-29T08:05:48.994710400Z",
     "start_time": "2023-10-29T08:05:43.991456400Z"
    }
   },
   "outputs": [],
   "source": [
    "import numpy as np\n",
    "import os\n",
    "import cv2\n",
    "import matplotlib.pyplot as plt\n",
    "import time\n",
    "import mediapipe as mp"
   ]
  },
  {
   "cell_type": "code",
   "execution_count": 2,
   "outputs": [],
   "source": [
    "mp_holistic = mp.solutions.holistic\n",
    "mp_drawing = mp.solutions.drawing_utils"
   ],
   "metadata": {
    "collapsed": false,
    "ExecuteTime": {
     "end_time": "2023-10-29T08:05:50.326448500Z",
     "start_time": "2023-10-29T08:05:50.294850200Z"
    }
   },
   "id": "ba7cf88dd9cb955e"
  },
  {
   "cell_type": "code",
   "execution_count": 3,
   "outputs": [],
   "source": [
    "def mediapipe_detection(image, model):\n",
    "    image = cv2.cvtColor(image, cv2.COLOR_BGR2RGB)\n",
    "    image.flags.writeable = False\n",
    "    results = model.process(image)\n",
    "    image.flags.writeable = True\n",
    "    image = cv2.cvtColor(image, cv2.COLOR_RGB2BGR)\n",
    "    return image, results"
   ],
   "metadata": {
    "collapsed": false,
    "ExecuteTime": {
     "end_time": "2023-10-29T08:05:51.593438Z",
     "start_time": "2023-10-29T08:05:51.573936700Z"
    }
   },
   "id": "27228ffb5cbe529a"
  },
  {
   "cell_type": "code",
   "execution_count": 4,
   "outputs": [],
   "source": [
    "def draw_styled_landmarks(image, results):\n",
    "    mp_drawing.draw_landmarks(image, results.face_landmarks, mp_holistic.FACEMESH_TESSELATION,\n",
    "                              mp_drawing.DrawingSpec(color=(80,110,10), thickness=1, circle_radius=1),\n",
    "                              mp_drawing.DrawingSpec(color=(80,256,121), thickness=1, circle_radius=1))\n",
    "    mp_drawing.draw_landmarks(image, results.pose_landmarks, mp_holistic.POSE_CONNECTIONS,\n",
    "                              mp_drawing.DrawingSpec(color=(80,22,10), thickness=1, circle_radius=4),\n",
    "                              mp_drawing.DrawingSpec(color=(80,44,121), thickness=1, circle_radius=2))\n",
    "    mp_drawing.draw_landmarks(image, results.left_hand_landmarks, mp_holistic.HAND_CONNECTIONS,\n",
    "                              mp_drawing.DrawingSpec(color=(121,22,76), thickness=1, circle_radius=4),\n",
    "                              mp_drawing.DrawingSpec(color=(80,44,250), thickness=1, circle_radius=2))\n",
    "    mp_drawing.draw_landmarks(image, results.right_hand_landmarks, mp_holistic.HAND_CONNECTIONS,\n",
    "                              mp_drawing.DrawingSpec(color=(245,117,66), thickness=1, circle_radius=4),\n",
    "                              mp_drawing.DrawingSpec(color=(245,66,230), thickness=1, circle_radius=2))"
   ],
   "metadata": {
    "collapsed": false,
    "ExecuteTime": {
     "end_time": "2023-10-29T08:05:52.574701800Z",
     "start_time": "2023-10-29T08:05:52.556411700Z"
    }
   },
   "id": "b53ce16097e9471"
  },
  {
   "cell_type": "code",
   "execution_count": 5,
   "outputs": [],
   "source": [
    "def draw_landmarks(image, results):\n",
    "    mp_drawing.draw_landmarks(image, results.face_landmarks, mp_holistic.FACEMESH_TESSELATION)\n",
    "    mp_drawing.draw_landmarks(image, results.pose_landmarks, mp_holistic.POSE_CONNECTIONS)\n",
    "    mp_drawing.draw_landmarks(image, results.left_hand_landmarks, mp_holistic.HAND_CONNECTIONS)\n",
    "    mp_drawing.draw_landmarks(image, results.right_hand_landmarks, mp_holistic.HAND_CONNECTIONS)"
   ],
   "metadata": {
    "collapsed": false,
    "ExecuteTime": {
     "end_time": "2023-10-29T08:05:53.700393500Z",
     "start_time": "2023-10-29T08:05:53.682881Z"
    }
   },
   "id": "d469fe31538455bc"
  },
  {
   "cell_type": "code",
   "execution_count": 5,
   "outputs": [],
   "source": [],
   "metadata": {
    "collapsed": false,
    "ExecuteTime": {
     "end_time": "2023-10-29T08:05:54.863516300Z",
     "start_time": "2023-10-29T08:05:54.854980100Z"
    }
   },
   "id": "72ff79187dbfd45b"
  },
  {
   "cell_type": "code",
   "execution_count": 6,
   "outputs": [],
   "source": [
    "# cap = cv2.VideoCapture(0)\n",
    "# with mp_holistic.Holistic(min_detection_confidence=0.5, min_tracking_confidence=0.5) as holistic:\n",
    "#     while cap.isOpened():\n",
    "#         \n",
    "#         ret, frame = cap.read()\n",
    "#         \n",
    "#         image, results = mediapipe_detection(frame, holistic)\n",
    "#         \n",
    "#         draw_styled_landmarks(image, results)\n",
    "#         \n",
    "#         print(results)\n",
    "#         \n",
    "#         cv2.imshow('Feed', image)\n",
    "#         \n",
    "#         if(cv2.waitKey(10) & 0xFF == ord('q')):\n",
    "#             break\n",
    "#         \n",
    "#     cap.release()\n",
    "#     cv2.destroyAllWindows()"
   ],
   "metadata": {
    "collapsed": false,
    "ExecuteTime": {
     "end_time": "2023-10-29T08:05:55.231179800Z",
     "start_time": "2023-10-29T08:05:55.224172500Z"
    }
   },
   "id": "bbe7bb0f57d01d48"
  },
  {
   "cell_type": "code",
   "execution_count": 6,
   "outputs": [],
   "source": [],
   "metadata": {
    "collapsed": false,
    "ExecuteTime": {
     "end_time": "2023-10-29T08:05:55.906151300Z",
     "start_time": "2023-10-29T08:05:55.887001300Z"
    }
   },
   "id": "3ad65068528c8345"
  },
  {
   "cell_type": "code",
   "execution_count": 7,
   "outputs": [],
   "source": [
    "# pose = np.array([[res.x, res.y, res.z, res.visibility] for res in results.pose_landmarks.landmark]).flatten() if(results.pose_landmarks) else np.zeros(33*4)"
   ],
   "metadata": {
    "collapsed": false,
    "ExecuteTime": {
     "end_time": "2023-10-29T08:05:56.247212700Z",
     "start_time": "2023-10-29T08:05:56.239416200Z"
    }
   },
   "id": "f11781f4e57351ba"
  },
  {
   "cell_type": "code",
   "execution_count": 8,
   "outputs": [],
   "source": [
    "# lh = np.array([[res.x, res.y, res.z] for res in results.left_hand_landmarks.landmark]).flatten() if(results.left_hand_landmarks) else np.zeros(21*3)"
   ],
   "metadata": {
    "collapsed": false,
    "ExecuteTime": {
     "end_time": "2023-10-29T08:05:56.442534700Z",
     "start_time": "2023-10-29T08:05:56.435312800Z"
    }
   },
   "id": "35c7c1632ff74a7f"
  },
  {
   "cell_type": "code",
   "execution_count": 9,
   "outputs": [],
   "source": [
    "# rh = np.array([[res.x, res.y, res.z] for res in results.right_hand_landmarks.landmark]).flatten() if(results.right_hand_landmarks) else np.zeros(21*3)"
   ],
   "metadata": {
    "collapsed": false,
    "ExecuteTime": {
     "end_time": "2023-10-29T08:05:56.663932600Z",
     "start_time": "2023-10-29T08:05:56.656427800Z"
    }
   },
   "id": "4e353ff55b0a92e1"
  },
  {
   "cell_type": "code",
   "execution_count": 10,
   "outputs": [],
   "source": [
    "# face = np.array([[res.x, res.y, res.z] for res in results.face_landmarks.landmark]).flatten() if(results.face_landmarks) else np.zeros(468*3)"
   ],
   "metadata": {
    "collapsed": false,
    "ExecuteTime": {
     "end_time": "2023-10-29T08:05:56.844189700Z",
     "start_time": "2023-10-29T08:05:56.836183300Z"
    }
   },
   "id": "c024aa09e8164a4b"
  },
  {
   "cell_type": "code",
   "execution_count": 11,
   "outputs": [],
   "source": [
    "def extract_keypoints(results):\n",
    "    pose = np.array([[res.x, res.y, res.z, res.visibility] for res in results.pose_landmarks.landmark]).flatten() if(results.pose_landmarks) else np.zeros(33*4)\n",
    "    lh = np.array([[res.x, res.y, res.z] for res in results.left_hand_landmarks.landmark]).flatten() if(results.left_hand_landmarks) else np.zeros(21*3)\n",
    "    rh = np.array([[res.x, res.y, res.z] for res in results.right_hand_landmarks.landmark]).flatten() if(results.right_hand_landmarks) else np.zeros(21*3)\n",
    "    face = np.array([[res.x, res.y, res.z] for res in results.face_landmarks.landmark]).flatten() if(results.face_landmarks) else np.zeros(468*3)\n",
    "    \n",
    "    return np.concatenate([pose,face,lh,rh])"
   ],
   "metadata": {
    "collapsed": false,
    "ExecuteTime": {
     "end_time": "2023-10-29T08:05:57.743471Z",
     "start_time": "2023-10-29T08:05:57.739473900Z"
    }
   },
   "id": "e1243acbb7a79849"
  },
  {
   "cell_type": "code",
   "execution_count": 11,
   "outputs": [],
   "source": [],
   "metadata": {
    "collapsed": false,
    "ExecuteTime": {
     "end_time": "2023-10-29T08:05:58.935001400Z",
     "start_time": "2023-10-29T08:05:58.929826800Z"
    }
   },
   "id": "6f71f9a20a037fef"
  },
  {
   "cell_type": "code",
   "execution_count": 12,
   "outputs": [],
   "source": [
    "DATA_PATH = os.path.join('MP_Data')\n",
    "\n",
    "actions = ['hello', 'thanks', 'i love you']\n",
    "\n",
    "no_sequences = 30\n",
    "\n",
    "sequence_length = 30"
   ],
   "metadata": {
    "collapsed": false,
    "ExecuteTime": {
     "end_time": "2023-10-29T08:05:59.347596100Z",
     "start_time": "2023-10-29T08:05:59.340163300Z"
    }
   },
   "id": "e198d64b455bf67b"
  },
  {
   "cell_type": "code",
   "execution_count": 13,
   "outputs": [],
   "source": [
    "for action in actions:\n",
    "    for sequence in range(no_sequences):\n",
    "        try:\n",
    "            os.makedirs(os.path.join(DATA_PATH, action, str(sequence)))\n",
    "        except:\n",
    "            pass"
   ],
   "metadata": {
    "collapsed": false,
    "ExecuteTime": {
     "end_time": "2023-10-29T08:06:00.214848800Z",
     "start_time": "2023-10-29T08:06:00.196669600Z"
    }
   },
   "id": "30ae8a11a856dc7d"
  },
  {
   "cell_type": "code",
   "execution_count": 14,
   "outputs": [],
   "source": [
    "# cap = cv2.VideoCapture(0)\n",
    "# with mp_holistic.Holistic(min_detection_confidence=0.5, min_tracking_confidence=0.5) as holistic:\n",
    "#     \n",
    "#     for action in actions:\n",
    "#         for sequence in range(no_sequences):        \n",
    "#             for frame_number in range(sequence_length):\n",
    "#         \n",
    "#                 ret, frame = cap.read()\n",
    "#                 \n",
    "#                 image, results = mediapipe_detection(frame, holistic)\n",
    "#                 \n",
    "#                 draw_styled_landmarks(image, results)\n",
    "#                 \n",
    "#                 if frame_number==0:\n",
    "#                     cv2.putText(image, 'STARTING COLLECTION', (120,200),\n",
    "#                                 cv2.FONT_HERSHEY_SIMPLEX, 1, (0,255,0), 1, cv2.LINE_AA)\n",
    "#                     cv2.putText(image, 'Collecting frames for {} Video Number {}'.format(action, sequence), (15,12),\n",
    "#                                 cv2.FONT_HERSHEY_SIMPLEX, 0.5, (0,0,255), 1, cv2.LINE_AA)\n",
    "#                     \n",
    "#                     cv2.imshow(\"FEED\", image)\n",
    "#                     cv2.waitKey(2000)\n",
    "#                 \n",
    "#                 else:\n",
    "#                     cv2.putText(image, 'Collecting frames for {} Video Number {}'.format(action, sequence), (15,12),\n",
    "#                                 cv2.FONT_HERSHEY_SIMPLEX, 0.5, (0,0,255), 1, cv2.LINE_AA)\n",
    "#                     \n",
    "#                     cv2.imshow(\"FEED\", image)\n",
    "# \n",
    "#                 keypoints = extract_keypoints(results)\n",
    "#                 npy_path = os.path.join(DATA_PATH, action, str(sequence), str(frame_number))\n",
    "#                 np.save(npy_path, keypoints)\n",
    "#                 \n",
    "#                 if(cv2.waitKey(10) & 0xFF == ord('q')):\n",
    "#                     break\n",
    "#         \n",
    "#     cap.release()\n",
    "#     cv2.destroyAllWindows()"
   ],
   "metadata": {
    "collapsed": false,
    "ExecuteTime": {
     "end_time": "2023-10-29T08:06:01.105750Z",
     "start_time": "2023-10-29T08:06:01.100737400Z"
    }
   },
   "id": "4ed84e6dcf0bb4ca"
  },
  {
   "cell_type": "code",
   "execution_count": 15,
   "outputs": [],
   "source": [
    "from sklearn.model_selection import train_test_split\n",
    "from tensorflow.keras.utils import to_categorical\n"
   ],
   "metadata": {
    "collapsed": false,
    "ExecuteTime": {
     "end_time": "2023-10-29T08:06:03.099221100Z",
     "start_time": "2023-10-29T08:06:02.231712900Z"
    }
   },
   "id": "4709d173aea34882"
  },
  {
   "cell_type": "code",
   "execution_count": 16,
   "outputs": [],
   "source": [
    "label_map = {label: num for num, label in enumerate(actions)}"
   ],
   "metadata": {
    "collapsed": false,
    "ExecuteTime": {
     "end_time": "2023-10-29T08:06:03.663555700Z",
     "start_time": "2023-10-29T08:06:03.655001500Z"
    }
   },
   "id": "2de71c64d64038f"
  },
  {
   "cell_type": "code",
   "execution_count": 16,
   "outputs": [],
   "source": [],
   "metadata": {
    "collapsed": false,
    "ExecuteTime": {
     "end_time": "2023-10-29T08:06:04.305515800Z",
     "start_time": "2023-10-29T08:06:04.297077300Z"
    }
   },
   "id": "d9bb7c5835bc1536"
  },
  {
   "cell_type": "code",
   "execution_count": 17,
   "outputs": [],
   "source": [
    "sequences, labels = [], []\n",
    "for action in actions:\n",
    "    for sequence in range(no_sequences):\n",
    "        window = []\n",
    "        for frame_number in range(sequence_length):\n",
    "            res = np.load(os.path.join(DATA_PATH, action, str(sequence), \"{}.npy\".format(frame_number)))\n",
    "            window.append(res)\n",
    "        sequences.append(window)\n",
    "        labels.append(label_map[action])"
   ],
   "metadata": {
    "collapsed": false,
    "ExecuteTime": {
     "end_time": "2023-10-29T08:06:05.550193400Z",
     "start_time": "2023-10-29T08:06:04.715637300Z"
    }
   },
   "id": "aebbeeb3ed83bab1"
  },
  {
   "cell_type": "code",
   "execution_count": 18,
   "outputs": [],
   "source": [
    "X = np.array(sequences)"
   ],
   "metadata": {
    "collapsed": false,
    "ExecuteTime": {
     "end_time": "2023-10-29T08:06:06.175813700Z",
     "start_time": "2023-10-29T08:06:06.157784Z"
    }
   },
   "id": "69143407e28b434d"
  },
  {
   "cell_type": "code",
   "execution_count": 19,
   "outputs": [],
   "source": [
    "y = to_categorical(labels).astype(int)"
   ],
   "metadata": {
    "collapsed": false,
    "ExecuteTime": {
     "end_time": "2023-10-29T08:06:06.709904900Z",
     "start_time": "2023-10-29T08:06:06.695837200Z"
    }
   },
   "id": "475880bcb5eeb8cc"
  },
  {
   "cell_type": "code",
   "execution_count": 20,
   "outputs": [],
   "source": [
    "X_train, X_test, y_train, y_test = train_test_split(X, y, test_size=0.05)"
   ],
   "metadata": {
    "collapsed": false,
    "ExecuteTime": {
     "end_time": "2023-10-29T08:06:07.127139Z",
     "start_time": "2023-10-29T08:06:07.107868400Z"
    }
   },
   "id": "9e12e3ddfb437941"
  },
  {
   "cell_type": "code",
   "execution_count": 21,
   "outputs": [],
   "source": [
    "from tensorflow.keras.models import Sequential\n",
    "from tensorflow.keras.layers import LSTM, Dense\n",
    "from tensorflow.keras.callbacks import TensorBoard"
   ],
   "metadata": {
    "collapsed": false,
    "ExecuteTime": {
     "end_time": "2023-10-29T08:06:07.550806600Z",
     "start_time": "2023-10-29T08:06:07.536336500Z"
    }
   },
   "id": "1acc2db2b4f4975f"
  },
  {
   "cell_type": "code",
   "execution_count": 22,
   "outputs": [],
   "source": [
    "log_dir = os.path.join('Logs')\n",
    "tb_callback = TensorBoard(log_dir = log_dir)"
   ],
   "metadata": {
    "collapsed": false,
    "ExecuteTime": {
     "end_time": "2023-10-29T08:06:08.042874600Z",
     "start_time": "2023-10-29T08:06:08.038702100Z"
    }
   },
   "id": "cc5e9453d54bcfeb"
  },
  {
   "cell_type": "code",
   "execution_count": 23,
   "outputs": [],
   "source": [
    "model = Sequential()\n",
    "model.add(LSTM(64, return_sequences=True, activation = 'relu', input_shape= (30,1662)))\n",
    "model.add(LSTM(128, return_sequences=True, activation = 'relu'))\n",
    "model.add(LSTM(64, return_sequences=False, activation = 'relu'))\n",
    "model.add(Dense(64, activation = 'relu'))\n",
    "model.add(Dense(32, activation = 'relu'))\n",
    "model.add(Dense(np.array(actions).shape[0], activation = 'softmax'))"
   ],
   "metadata": {
    "collapsed": false,
    "ExecuteTime": {
     "end_time": "2023-10-29T08:06:09.783434500Z",
     "start_time": "2023-10-29T08:06:09.419027Z"
    }
   },
   "id": "eb7565662d7d7428"
  },
  {
   "cell_type": "code",
   "execution_count": 24,
   "outputs": [],
   "source": [
    "model.compile(optimizer = 'Adam', loss= 'categorical_crossentropy', metrics = ['categorical_accuracy'])"
   ],
   "metadata": {
    "collapsed": false,
    "ExecuteTime": {
     "end_time": "2023-10-29T08:06:10.469698500Z",
     "start_time": "2023-10-29T08:06:10.450359500Z"
    }
   },
   "id": "b0290472da5983bf"
  },
  {
   "cell_type": "code",
   "execution_count": 25,
   "outputs": [],
   "source": [
    "# model.fit(X_train, y_train, epochs = 1000, callbacks= [tb_callback])"
   ],
   "metadata": {
    "collapsed": false,
    "ExecuteTime": {
     "end_time": "2023-10-29T08:06:11.933711500Z",
     "start_time": "2023-10-29T08:06:11.915276100Z"
    }
   },
   "id": "bb6b2c0e8e066a7a"
  },
  {
   "cell_type": "code",
   "execution_count": 26,
   "outputs": [
    {
     "name": "stdout",
     "output_type": "stream",
     "text": [
      "Model: \"sequential\"\n",
      "_________________________________________________________________\n",
      " Layer (type)                Output Shape              Param #   \n",
      "=================================================================\n",
      " lstm (LSTM)                 (None, 30, 64)            442112    \n",
      "                                                                 \n",
      " lstm_1 (LSTM)               (None, 30, 128)           98816     \n",
      "                                                                 \n",
      " lstm_2 (LSTM)               (None, 64)                49408     \n",
      "                                                                 \n",
      " dense (Dense)               (None, 64)                4160      \n",
      "                                                                 \n",
      " dense_1 (Dense)             (None, 32)                2080      \n",
      "                                                                 \n",
      " dense_2 (Dense)             (None, 3)                 99        \n",
      "                                                                 \n",
      "=================================================================\n",
      "Total params: 596675 (2.28 MB)\n",
      "Trainable params: 596675 (2.28 MB)\n",
      "Non-trainable params: 0 (0.00 Byte)\n",
      "_________________________________________________________________\n"
     ]
    }
   ],
   "source": [
    "model.summary()"
   ],
   "metadata": {
    "collapsed": false,
    "ExecuteTime": {
     "end_time": "2023-10-29T08:06:12.853682800Z",
     "start_time": "2023-10-29T08:06:12.807380100Z"
    }
   },
   "id": "3ec87f8408ea2147"
  },
  {
   "cell_type": "code",
   "execution_count": 27,
   "outputs": [],
   "source": [
    "# res = model.predict(X_test)"
   ],
   "metadata": {
    "collapsed": false,
    "ExecuteTime": {
     "end_time": "2023-10-29T08:06:14.016015400Z",
     "start_time": "2023-10-29T08:06:14.011473Z"
    }
   },
   "id": "63fe2e3694777591"
  },
  {
   "cell_type": "code",
   "execution_count": 28,
   "outputs": [],
   "source": [
    "# model.save('action.keras')"
   ],
   "metadata": {
    "collapsed": false,
    "ExecuteTime": {
     "end_time": "2023-10-29T08:06:14.345839900Z",
     "start_time": "2023-10-29T08:06:14.339832100Z"
    }
   },
   "id": "a58e65c332db1f7"
  },
  {
   "cell_type": "code",
   "execution_count": 29,
   "outputs": [],
   "source": [
    "from sklearn.metrics import multilabel_confusion_matrix, accuracy_score"
   ],
   "metadata": {
    "collapsed": false,
    "ExecuteTime": {
     "end_time": "2023-10-29T08:06:15.012217700Z",
     "start_time": "2023-10-29T08:06:15.005206Z"
    }
   },
   "id": "4078cb27b5b656d2"
  },
  {
   "cell_type": "code",
   "execution_count": 30,
   "outputs": [],
   "source": [
    "# yhat = model.predict(X_test)"
   ],
   "metadata": {
    "collapsed": false,
    "ExecuteTime": {
     "end_time": "2023-10-29T08:06:16.265208200Z",
     "start_time": "2023-10-29T08:06:16.261719900Z"
    }
   },
   "id": "4aa5fa36170df6e1"
  },
  {
   "cell_type": "code",
   "execution_count": 31,
   "outputs": [],
   "source": [
    "# ytrue = np.argmax(y_test, axis=1).tolist()\n",
    "# yhat = np.argmax(yhat, axis=1).tolist()"
   ],
   "metadata": {
    "collapsed": false,
    "ExecuteTime": {
     "end_time": "2023-10-29T08:06:16.833937100Z",
     "start_time": "2023-10-29T08:06:16.816Z"
    }
   },
   "id": "4c20057e1431d1b8"
  },
  {
   "cell_type": "code",
   "execution_count": 32,
   "outputs": [],
   "source": [
    "# multilabel_confusion_matrix(ytrue, yhat)"
   ],
   "metadata": {
    "collapsed": false,
    "ExecuteTime": {
     "end_time": "2023-10-29T08:06:17.171387800Z",
     "start_time": "2023-10-29T08:06:17.167372600Z"
    }
   },
   "id": "16dfdfe151af0107"
  },
  {
   "cell_type": "code",
   "execution_count": 33,
   "outputs": [],
   "source": [
    "# accuracy_score(ytrue, yhat)"
   ],
   "metadata": {
    "collapsed": false,
    "ExecuteTime": {
     "end_time": "2023-10-29T08:06:17.790131500Z",
     "start_time": "2023-10-29T08:06:17.784877200Z"
    }
   },
   "id": "36f0f584c330614a"
  },
  {
   "cell_type": "code",
   "execution_count": 34,
   "outputs": [],
   "source": [
    "model.load_weights('action.h5')"
   ],
   "metadata": {
    "collapsed": false,
    "ExecuteTime": {
     "end_time": "2023-10-29T08:06:18.666178900Z",
     "start_time": "2023-10-29T08:06:18.631273500Z"
    }
   },
   "id": "ec615ee566f7c38f"
  },
  {
   "cell_type": "code",
   "execution_count": 35,
   "outputs": [],
   "source": [
    "colors = [(245,117,16), (117,245,16), (16,117,245)]\n",
    "def prob_viz(res, actions, input_frame, colors):\n",
    "    output_frame = input_frame.copy()\n",
    "    for num, prob in enumerate(res):\n",
    "        cv2.rectangle(output_frame, (0,60+num*40), (int(prob*100), 90+num*40), colors[num], -1)\n",
    "        cv2.putText(output_frame, actions[num], (0, 85+num*40), cv2.FONT_HERSHEY_SIMPLEX, 1, (255,255,255), 2, cv2.LINE_AA)\n",
    "        \n",
    "    return output_frame"
   ],
   "metadata": {
    "collapsed": false,
    "ExecuteTime": {
     "end_time": "2023-10-29T08:06:20.194056900Z",
     "start_time": "2023-10-29T08:06:20.189715800Z"
    }
   },
   "id": "5d318d8541143f24"
  },
  {
   "cell_type": "code",
   "execution_count": 36,
   "outputs": [
    {
     "name": "stdout",
     "output_type": "stream",
     "text": [
      "1/1 [==============================] - 1s 537ms/step\n",
      "i love you\n",
      "1/1 [==============================] - 0s 25ms/step\n",
      "i love you\n",
      "1/1 [==============================] - 0s 27ms/step\n",
      "i love you\n",
      "1/1 [==============================] - 0s 22ms/step\n",
      "i love you\n",
      "1/1 [==============================] - 0s 20ms/step\n",
      "i love you\n",
      "1/1 [==============================] - 0s 21ms/step\n",
      "i love you\n",
      "1/1 [==============================] - 0s 21ms/step\n",
      "i love you\n",
      "1/1 [==============================] - 0s 22ms/step\n",
      "i love you\n",
      "1/1 [==============================] - 0s 19ms/step\n",
      "i love you\n",
      "1/1 [==============================] - 0s 20ms/step\n",
      "i love you\n",
      "1/1 [==============================] - 0s 20ms/step\n",
      "i love you\n",
      "1/1 [==============================] - 0s 19ms/step\n",
      "i love you\n",
      "1/1 [==============================] - 0s 21ms/step\n",
      "i love you\n",
      "1/1 [==============================] - 0s 22ms/step\n",
      "i love you\n",
      "1/1 [==============================] - 0s 19ms/step\n",
      "i love you\n",
      "1/1 [==============================] - 0s 20ms/step\n",
      "i love you\n",
      "1/1 [==============================] - 0s 20ms/step\n",
      "i love you\n",
      "1/1 [==============================] - 0s 20ms/step\n",
      "i love you\n",
      "1/1 [==============================] - 0s 19ms/step\n",
      "i love you\n",
      "1/1 [==============================] - 0s 20ms/step\n",
      "i love you\n",
      "1/1 [==============================] - 0s 19ms/step\n",
      "i love you\n",
      "1/1 [==============================] - 0s 19ms/step\n",
      "i love you\n",
      "1/1 [==============================] - 0s 18ms/step\n",
      "i love you\n",
      "1/1 [==============================] - 0s 19ms/step\n",
      "i love you\n",
      "1/1 [==============================] - 0s 19ms/step\n",
      "i love you\n",
      "1/1 [==============================] - 0s 20ms/step\n",
      "i love you\n",
      "1/1 [==============================] - 0s 18ms/step\n",
      "i love you\n",
      "1/1 [==============================] - 0s 20ms/step\n",
      "i love you\n",
      "1/1 [==============================] - 0s 20ms/step\n",
      "i love you\n",
      "1/1 [==============================] - 0s 19ms/step\n",
      "i love you\n",
      "1/1 [==============================] - 0s 20ms/step\n",
      "i love you\n",
      "1/1 [==============================] - 0s 19ms/step\n",
      "i love you\n",
      "1/1 [==============================] - 0s 20ms/step\n",
      "i love you\n",
      "1/1 [==============================] - 0s 18ms/step\n",
      "i love you\n",
      "1/1 [==============================] - 0s 20ms/step\n",
      "i love you\n",
      "1/1 [==============================] - 0s 18ms/step\n",
      "i love you\n",
      "1/1 [==============================] - 0s 18ms/step\n",
      "i love you\n",
      "1/1 [==============================] - 0s 22ms/step\n",
      "i love you\n",
      "1/1 [==============================] - 0s 20ms/step\n",
      "i love you\n",
      "1/1 [==============================] - 0s 18ms/step\n",
      "i love you\n",
      "1/1 [==============================] - 0s 20ms/step\n",
      "i love you\n",
      "1/1 [==============================] - 0s 19ms/step\n",
      "i love you\n",
      "1/1 [==============================] - 0s 19ms/step\n",
      "i love you\n",
      "1/1 [==============================] - 0s 19ms/step\n",
      "i love you\n",
      "1/1 [==============================] - 0s 18ms/step\n",
      "i love you\n",
      "1/1 [==============================] - 0s 20ms/step\n",
      "i love you\n",
      "1/1 [==============================] - 0s 20ms/step\n",
      "i love you\n",
      "1/1 [==============================] - 0s 19ms/step\n",
      "i love you\n",
      "1/1 [==============================] - 0s 19ms/step\n",
      "i love you\n",
      "1/1 [==============================] - 0s 19ms/step\n",
      "i love you\n",
      "1/1 [==============================] - 0s 19ms/step\n",
      "i love you\n",
      "1/1 [==============================] - 0s 19ms/step\n",
      "i love you\n",
      "1/1 [==============================] - 0s 18ms/step\n",
      "i love you\n",
      "1/1 [==============================] - 0s 19ms/step\n",
      "i love you\n",
      "1/1 [==============================] - 0s 20ms/step\n",
      "i love you\n",
      "1/1 [==============================] - 0s 20ms/step\n",
      "i love you\n",
      "1/1 [==============================] - 0s 22ms/step\n",
      "i love you\n",
      "1/1 [==============================] - 0s 19ms/step\n",
      "i love you\n",
      "1/1 [==============================] - 0s 18ms/step\n",
      "i love you\n",
      "1/1 [==============================] - 0s 19ms/step\n",
      "i love you\n",
      "1/1 [==============================] - 0s 19ms/step\n",
      "i love you\n",
      "1/1 [==============================] - 0s 19ms/step\n",
      "i love you\n",
      "1/1 [==============================] - 0s 19ms/step\n",
      "i love you\n",
      "1/1 [==============================] - 0s 19ms/step\n",
      "i love you\n",
      "1/1 [==============================] - 0s 19ms/step\n",
      "i love you\n",
      "1/1 [==============================] - 0s 18ms/step\n",
      "i love you\n",
      "1/1 [==============================] - 0s 18ms/step\n",
      "i love you\n",
      "1/1 [==============================] - 0s 19ms/step\n",
      "i love you\n",
      "1/1 [==============================] - 0s 19ms/step\n",
      "i love you\n",
      "1/1 [==============================] - 0s 18ms/step\n",
      "i love you\n",
      "1/1 [==============================] - 0s 18ms/step\n",
      "thanks\n",
      "1/1 [==============================] - 0s 18ms/step\n",
      "thanks\n",
      "1/1 [==============================] - 0s 19ms/step\n",
      "thanks\n",
      "1/1 [==============================] - 0s 18ms/step\n",
      "thanks\n",
      "1/1 [==============================] - 0s 18ms/step\n",
      "thanks\n",
      "1/1 [==============================] - 0s 19ms/step\n",
      "thanks\n",
      "1/1 [==============================] - 0s 19ms/step\n",
      "i love you\n",
      "1/1 [==============================] - 0s 18ms/step\n",
      "i love you\n",
      "1/1 [==============================] - 0s 18ms/step\n",
      "i love you\n",
      "1/1 [==============================] - 0s 18ms/step\n",
      "i love you\n",
      "1/1 [==============================] - 0s 21ms/step\n",
      "i love you\n",
      "1/1 [==============================] - 0s 19ms/step\n",
      "i love you\n",
      "1/1 [==============================] - 0s 18ms/step\n",
      "i love you\n",
      "1/1 [==============================] - 0s 20ms/step\n",
      "i love you\n",
      "1/1 [==============================] - 0s 19ms/step\n",
      "i love you\n",
      "1/1 [==============================] - 0s 20ms/step\n",
      "i love you\n",
      "1/1 [==============================] - 0s 18ms/step\n",
      "i love you\n",
      "1/1 [==============================] - 0s 19ms/step\n",
      "thanks\n",
      "1/1 [==============================] - 0s 21ms/step\n",
      "thanks\n",
      "1/1 [==============================] - 0s 20ms/step\n",
      "thanks\n",
      "1/1 [==============================] - 0s 19ms/step\n",
      "thanks\n",
      "1/1 [==============================] - 0s 19ms/step\n",
      "thanks\n",
      "1/1 [==============================] - 0s 20ms/step\n",
      "thanks\n",
      "1/1 [==============================] - 0s 18ms/step\n",
      "thanks\n",
      "1/1 [==============================] - 0s 19ms/step\n",
      "thanks\n",
      "1/1 [==============================] - 0s 18ms/step\n",
      "thanks\n",
      "1/1 [==============================] - 0s 19ms/step\n",
      "thanks\n",
      "1/1 [==============================] - 0s 18ms/step\n",
      "thanks\n",
      "1/1 [==============================] - 0s 19ms/step\n",
      "thanks\n",
      "1/1 [==============================] - 0s 20ms/step\n",
      "thanks\n",
      "1/1 [==============================] - 0s 20ms/step\n",
      "thanks\n",
      "1/1 [==============================] - 0s 19ms/step\n",
      "thanks\n",
      "1/1 [==============================] - 0s 19ms/step\n",
      "thanks\n",
      "1/1 [==============================] - 0s 19ms/step\n",
      "thanks\n",
      "1/1 [==============================] - 0s 25ms/step\n",
      "thanks\n",
      "1/1 [==============================] - 0s 18ms/step\n",
      "thanks\n",
      "1/1 [==============================] - 0s 19ms/step\n",
      "thanks\n",
      "1/1 [==============================] - 0s 18ms/step\n",
      "thanks\n",
      "1/1 [==============================] - 0s 19ms/step\n",
      "thanks\n",
      "1/1 [==============================] - 0s 19ms/step\n",
      "thanks\n",
      "1/1 [==============================] - 0s 18ms/step\n",
      "thanks\n",
      "1/1 [==============================] - 0s 20ms/step\n",
      "thanks\n",
      "1/1 [==============================] - 0s 20ms/step\n",
      "thanks\n",
      "1/1 [==============================] - 0s 19ms/step\n",
      "thanks\n",
      "1/1 [==============================] - 0s 20ms/step\n",
      "thanks\n",
      "1/1 [==============================] - 0s 19ms/step\n",
      "thanks\n",
      "1/1 [==============================] - 0s 19ms/step\n",
      "thanks\n",
      "1/1 [==============================] - 0s 19ms/step\n",
      "thanks\n",
      "1/1 [==============================] - 0s 20ms/step\n",
      "thanks\n",
      "1/1 [==============================] - 0s 19ms/step\n",
      "thanks\n",
      "1/1 [==============================] - 0s 20ms/step\n",
      "thanks\n",
      "1/1 [==============================] - 0s 18ms/step\n",
      "thanks\n",
      "1/1 [==============================] - 0s 19ms/step\n",
      "thanks\n",
      "1/1 [==============================] - 0s 19ms/step\n",
      "i love you\n",
      "1/1 [==============================] - 0s 20ms/step\n",
      "thanks\n",
      "1/1 [==============================] - 0s 18ms/step\n",
      "thanks\n",
      "1/1 [==============================] - 0s 19ms/step\n",
      "thanks\n",
      "1/1 [==============================] - 0s 19ms/step\n",
      "thanks\n",
      "1/1 [==============================] - 0s 19ms/step\n",
      "thanks\n",
      "1/1 [==============================] - 0s 19ms/step\n",
      "thanks\n",
      "1/1 [==============================] - 0s 18ms/step\n",
      "thanks\n",
      "1/1 [==============================] - 0s 19ms/step\n",
      "thanks\n",
      "1/1 [==============================] - 0s 18ms/step\n",
      "thanks\n",
      "1/1 [==============================] - 0s 18ms/step\n",
      "thanks\n",
      "1/1 [==============================] - 0s 21ms/step\n",
      "thanks\n",
      "1/1 [==============================] - 0s 19ms/step\n",
      "thanks\n",
      "1/1 [==============================] - 0s 18ms/step\n",
      "thanks\n",
      "1/1 [==============================] - 0s 19ms/step\n",
      "thanks\n",
      "1/1 [==============================] - 0s 19ms/step\n",
      "thanks\n",
      "1/1 [==============================] - 0s 19ms/step\n",
      "thanks\n",
      "1/1 [==============================] - 0s 18ms/step\n",
      "thanks\n",
      "1/1 [==============================] - 0s 18ms/step\n",
      "thanks\n",
      "1/1 [==============================] - 0s 19ms/step\n",
      "thanks\n",
      "1/1 [==============================] - 0s 19ms/step\n",
      "thanks\n",
      "1/1 [==============================] - 0s 18ms/step\n",
      "thanks\n",
      "1/1 [==============================] - 0s 21ms/step\n",
      "thanks\n",
      "1/1 [==============================] - 0s 19ms/step\n",
      "thanks\n",
      "1/1 [==============================] - 0s 19ms/step\n",
      "thanks\n",
      "1/1 [==============================] - 0s 18ms/step\n",
      "thanks\n",
      "1/1 [==============================] - 0s 19ms/step\n",
      "thanks\n",
      "1/1 [==============================] - 0s 19ms/step\n",
      "thanks\n",
      "1/1 [==============================] - 0s 18ms/step\n",
      "thanks\n",
      "1/1 [==============================] - 0s 18ms/step\n",
      "thanks\n",
      "1/1 [==============================] - 0s 18ms/step\n",
      "i love you\n",
      "1/1 [==============================] - 0s 19ms/step\n",
      "i love you\n",
      "1/1 [==============================] - 0s 18ms/step\n",
      "i love you\n",
      "1/1 [==============================] - 0s 19ms/step\n",
      "i love you\n",
      "1/1 [==============================] - 0s 19ms/step\n",
      "i love you\n",
      "1/1 [==============================] - 0s 18ms/step\n",
      "i love you\n",
      "1/1 [==============================] - 0s 19ms/step\n",
      "i love you\n",
      "1/1 [==============================] - 0s 22ms/step\n",
      "i love you\n",
      "1/1 [==============================] - 0s 19ms/step\n",
      "i love you\n",
      "1/1 [==============================] - 0s 18ms/step\n",
      "i love you\n",
      "1/1 [==============================] - 0s 18ms/step\n",
      "i love you\n",
      "1/1 [==============================] - 0s 19ms/step\n",
      "i love you\n",
      "1/1 [==============================] - 0s 19ms/step\n",
      "i love you\n",
      "1/1 [==============================] - 0s 28ms/step\n",
      "i love you\n",
      "1/1 [==============================] - 0s 18ms/step\n",
      "i love you\n",
      "1/1 [==============================] - 0s 19ms/step\n",
      "i love you\n",
      "1/1 [==============================] - 0s 20ms/step\n",
      "i love you\n",
      "1/1 [==============================] - 0s 19ms/step\n",
      "i love you\n",
      "1/1 [==============================] - 0s 18ms/step\n",
      "i love you\n",
      "1/1 [==============================] - 0s 19ms/step\n",
      "i love you\n",
      "1/1 [==============================] - 0s 19ms/step\n",
      "i love you\n",
      "1/1 [==============================] - 0s 19ms/step\n",
      "i love you\n",
      "1/1 [==============================] - 0s 19ms/step\n",
      "i love you\n",
      "1/1 [==============================] - 0s 19ms/step\n",
      "i love you\n",
      "1/1 [==============================] - 0s 20ms/step\n",
      "i love you\n",
      "1/1 [==============================] - 0s 18ms/step\n",
      "i love you\n",
      "1/1 [==============================] - 0s 19ms/step\n",
      "i love you\n",
      "1/1 [==============================] - 0s 21ms/step\n",
      "i love you\n",
      "1/1 [==============================] - 0s 19ms/step\n",
      "i love you\n",
      "1/1 [==============================] - 0s 19ms/step\n",
      "i love you\n",
      "1/1 [==============================] - 0s 19ms/step\n",
      "i love you\n",
      "1/1 [==============================] - 0s 18ms/step\n",
      "i love you\n",
      "1/1 [==============================] - 0s 19ms/step\n",
      "i love you\n",
      "1/1 [==============================] - 0s 19ms/step\n",
      "i love you\n",
      "1/1 [==============================] - 0s 18ms/step\n",
      "i love you\n",
      "1/1 [==============================] - 0s 18ms/step\n",
      "i love you\n",
      "1/1 [==============================] - 0s 19ms/step\n",
      "i love you\n",
      "1/1 [==============================] - 0s 18ms/step\n",
      "i love you\n",
      "1/1 [==============================] - 0s 19ms/step\n",
      "i love you\n",
      "1/1 [==============================] - 0s 18ms/step\n",
      "i love you\n",
      "1/1 [==============================] - 0s 20ms/step\n",
      "i love you\n",
      "1/1 [==============================] - 0s 21ms/step\n",
      "i love you\n",
      "1/1 [==============================] - 0s 19ms/step\n",
      "i love you\n",
      "1/1 [==============================] - 0s 19ms/step\n",
      "i love you\n",
      "1/1 [==============================] - 0s 19ms/step\n",
      "i love you\n",
      "1/1 [==============================] - 0s 19ms/step\n",
      "i love you\n",
      "1/1 [==============================] - 0s 19ms/step\n",
      "i love you\n",
      "1/1 [==============================] - 0s 18ms/step\n",
      "i love you\n",
      "1/1 [==============================] - 0s 19ms/step\n",
      "i love you\n",
      "1/1 [==============================] - 0s 19ms/step\n",
      "i love you\n",
      "1/1 [==============================] - 0s 19ms/step\n",
      "i love you\n",
      "1/1 [==============================] - 0s 19ms/step\n",
      "i love you\n",
      "1/1 [==============================] - 0s 19ms/step\n",
      "i love you\n",
      "1/1 [==============================] - 0s 19ms/step\n",
      "i love you\n",
      "1/1 [==============================] - 0s 19ms/step\n",
      "i love you\n",
      "1/1 [==============================] - 0s 21ms/step\n",
      "i love you\n",
      "1/1 [==============================] - 0s 18ms/step\n",
      "i love you\n",
      "1/1 [==============================] - 0s 18ms/step\n",
      "i love you\n",
      "1/1 [==============================] - 0s 19ms/step\n",
      "i love you\n",
      "1/1 [==============================] - 0s 21ms/step\n",
      "i love you\n",
      "1/1 [==============================] - 0s 18ms/step\n",
      "i love you\n",
      "1/1 [==============================] - 0s 19ms/step\n",
      "i love you\n",
      "1/1 [==============================] - 0s 19ms/step\n",
      "i love you\n",
      "1/1 [==============================] - 0s 20ms/step\n",
      "thanks\n",
      "1/1 [==============================] - 0s 19ms/step\n",
      "thanks\n",
      "1/1 [==============================] - 0s 19ms/step\n",
      "thanks\n",
      "1/1 [==============================] - 0s 18ms/step\n",
      "hello\n",
      "1/1 [==============================] - 0s 19ms/step\n",
      "hello\n",
      "1/1 [==============================] - 0s 19ms/step\n",
      "hello\n",
      "1/1 [==============================] - 0s 19ms/step\n",
      "thanks\n",
      "1/1 [==============================] - 0s 18ms/step\n",
      "hello\n",
      "1/1 [==============================] - 0s 18ms/step\n",
      "hello\n",
      "1/1 [==============================] - 0s 19ms/step\n",
      "hello\n",
      "1/1 [==============================] - 0s 18ms/step\n",
      "hello\n",
      "1/1 [==============================] - 0s 20ms/step\n",
      "hello\n",
      "1/1 [==============================] - 0s 18ms/step\n",
      "hello\n",
      "1/1 [==============================] - 0s 18ms/step\n",
      "hello\n",
      "1/1 [==============================] - 0s 32ms/step\n",
      "hello\n",
      "1/1 [==============================] - 0s 18ms/step\n",
      "hello\n",
      "1/1 [==============================] - 0s 19ms/step\n",
      "hello\n",
      "1/1 [==============================] - 0s 19ms/step\n",
      "hello\n",
      "1/1 [==============================] - 0s 19ms/step\n",
      "hello\n",
      "1/1 [==============================] - 0s 19ms/step\n",
      "thanks\n",
      "1/1 [==============================] - 0s 20ms/step\n",
      "thanks\n",
      "1/1 [==============================] - 0s 18ms/step\n",
      "hello\n",
      "1/1 [==============================] - 0s 18ms/step\n",
      "hello\n",
      "1/1 [==============================] - 0s 19ms/step\n",
      "hello\n",
      "1/1 [==============================] - 0s 19ms/step\n",
      "hello\n",
      "1/1 [==============================] - 0s 19ms/step\n",
      "hello\n",
      "1/1 [==============================] - 0s 18ms/step\n",
      "hello\n",
      "1/1 [==============================] - 0s 19ms/step\n",
      "hello\n",
      "1/1 [==============================] - 0s 19ms/step\n",
      "hello\n",
      "1/1 [==============================] - 0s 18ms/step\n",
      "hello\n",
      "1/1 [==============================] - 0s 19ms/step\n",
      "hello\n",
      "1/1 [==============================] - 0s 18ms/step\n",
      "hello\n",
      "1/1 [==============================] - 0s 19ms/step\n",
      "hello\n",
      "1/1 [==============================] - 0s 19ms/step\n",
      "i love you\n",
      "1/1 [==============================] - 0s 19ms/step\n",
      "i love you\n",
      "1/1 [==============================] - 0s 18ms/step\n",
      "i love you\n",
      "1/1 [==============================] - 0s 18ms/step\n",
      "i love you\n",
      "1/1 [==============================] - 0s 19ms/step\n",
      "i love you\n",
      "1/1 [==============================] - 0s 20ms/step\n",
      "thanks\n",
      "1/1 [==============================] - 0s 20ms/step\n",
      "i love you\n",
      "1/1 [==============================] - 0s 18ms/step\n",
      "i love you\n",
      "1/1 [==============================] - 0s 19ms/step\n",
      "i love you\n",
      "1/1 [==============================] - 0s 21ms/step\n",
      "i love you\n",
      "1/1 [==============================] - 0s 18ms/step\n",
      "i love you\n",
      "1/1 [==============================] - 0s 18ms/step\n",
      "i love you\n",
      "1/1 [==============================] - 0s 19ms/step\n",
      "i love you\n",
      "1/1 [==============================] - 0s 20ms/step\n",
      "i love you\n",
      "1/1 [==============================] - 0s 18ms/step\n",
      "i love you\n",
      "1/1 [==============================] - 0s 19ms/step\n",
      "i love you\n",
      "1/1 [==============================] - 0s 19ms/step\n",
      "i love you\n",
      "1/1 [==============================] - 0s 19ms/step\n",
      "i love you\n",
      "1/1 [==============================] - 0s 18ms/step\n",
      "i love you\n",
      "1/1 [==============================] - 0s 18ms/step\n",
      "i love you\n",
      "1/1 [==============================] - 0s 18ms/step\n",
      "i love you\n",
      "1/1 [==============================] - 0s 19ms/step\n",
      "i love you\n",
      "1/1 [==============================] - 0s 21ms/step\n",
      "i love you\n",
      "1/1 [==============================] - 0s 18ms/step\n",
      "i love you\n",
      "1/1 [==============================] - 0s 19ms/step\n",
      "i love you\n",
      "1/1 [==============================] - 0s 18ms/step\n",
      "i love you\n",
      "1/1 [==============================] - 0s 19ms/step\n",
      "thanks\n",
      "1/1 [==============================] - 0s 18ms/step\n",
      "thanks\n",
      "1/1 [==============================] - 0s 19ms/step\n",
      "thanks\n",
      "1/1 [==============================] - 0s 20ms/step\n",
      "thanks\n",
      "1/1 [==============================] - 0s 19ms/step\n",
      "thanks\n",
      "1/1 [==============================] - 0s 19ms/step\n",
      "i love you\n",
      "1/1 [==============================] - 0s 19ms/step\n",
      "i love you\n",
      "1/1 [==============================] - 0s 19ms/step\n",
      "i love you\n",
      "1/1 [==============================] - 0s 19ms/step\n",
      "i love you\n",
      "1/1 [==============================] - 0s 18ms/step\n",
      "i love you\n",
      "1/1 [==============================] - 0s 19ms/step\n",
      "i love you\n",
      "1/1 [==============================] - 0s 20ms/step\n",
      "i love you\n",
      "1/1 [==============================] - 0s 18ms/step\n",
      "thanks\n",
      "1/1 [==============================] - 0s 19ms/step\n",
      "thanks\n",
      "1/1 [==============================] - 0s 19ms/step\n",
      "thanks\n",
      "1/1 [==============================] - 0s 20ms/step\n",
      "thanks\n",
      "1/1 [==============================] - 0s 18ms/step\n",
      "thanks\n",
      "1/1 [==============================] - 0s 19ms/step\n",
      "thanks\n",
      "1/1 [==============================] - 0s 18ms/step\n",
      "thanks\n",
      "1/1 [==============================] - 0s 18ms/step\n",
      "thanks\n",
      "1/1 [==============================] - 0s 18ms/step\n",
      "thanks\n",
      "1/1 [==============================] - 0s 19ms/step\n",
      "thanks\n",
      "1/1 [==============================] - 0s 19ms/step\n",
      "thanks\n",
      "1/1 [==============================] - 0s 19ms/step\n",
      "thanks\n",
      "1/1 [==============================] - 0s 18ms/step\n",
      "thanks\n",
      "1/1 [==============================] - 0s 19ms/step\n",
      "thanks\n",
      "1/1 [==============================] - 0s 19ms/step\n",
      "thanks\n",
      "1/1 [==============================] - 0s 19ms/step\n",
      "thanks\n",
      "1/1 [==============================] - 0s 19ms/step\n",
      "thanks\n",
      "1/1 [==============================] - 0s 18ms/step\n",
      "thanks\n",
      "1/1 [==============================] - 0s 20ms/step\n",
      "thanks\n",
      "1/1 [==============================] - 0s 18ms/step\n",
      "thanks\n",
      "1/1 [==============================] - 0s 19ms/step\n",
      "thanks\n",
      "1/1 [==============================] - 0s 19ms/step\n",
      "thanks\n",
      "1/1 [==============================] - 0s 19ms/step\n",
      "thanks\n",
      "1/1 [==============================] - 0s 19ms/step\n",
      "thanks\n",
      "1/1 [==============================] - 0s 21ms/step\n",
      "thanks\n",
      "1/1 [==============================] - 0s 19ms/step\n",
      "thanks\n",
      "1/1 [==============================] - 0s 21ms/step\n",
      "thanks\n",
      "1/1 [==============================] - 0s 19ms/step\n",
      "thanks\n",
      "1/1 [==============================] - 0s 19ms/step\n",
      "thanks\n",
      "1/1 [==============================] - 0s 18ms/step\n",
      "thanks\n",
      "1/1 [==============================] - 0s 18ms/step\n",
      "thanks\n",
      "1/1 [==============================] - 0s 19ms/step\n",
      "thanks\n",
      "1/1 [==============================] - 0s 18ms/step\n",
      "thanks\n",
      "1/1 [==============================] - 0s 18ms/step\n",
      "thanks\n",
      "1/1 [==============================] - 0s 20ms/step\n",
      "thanks\n",
      "1/1 [==============================] - 0s 19ms/step\n",
      "thanks\n",
      "1/1 [==============================] - 0s 19ms/step\n",
      "thanks\n",
      "1/1 [==============================] - 0s 20ms/step\n",
      "thanks\n",
      "1/1 [==============================] - 0s 20ms/step\n",
      "thanks\n",
      "1/1 [==============================] - 0s 20ms/step\n",
      "thanks\n",
      "1/1 [==============================] - 0s 18ms/step\n",
      "thanks\n",
      "1/1 [==============================] - 0s 18ms/step\n",
      "thanks\n",
      "1/1 [==============================] - 0s 20ms/step\n",
      "thanks\n",
      "1/1 [==============================] - 0s 19ms/step\n",
      "thanks\n",
      "1/1 [==============================] - 0s 20ms/step\n",
      "i love you\n",
      "1/1 [==============================] - 0s 18ms/step\n",
      "i love you\n",
      "1/1 [==============================] - 0s 18ms/step\n",
      "i love you\n",
      "1/1 [==============================] - 0s 19ms/step\n",
      "i love you\n",
      "1/1 [==============================] - 0s 18ms/step\n",
      "i love you\n",
      "1/1 [==============================] - 0s 19ms/step\n",
      "i love you\n",
      "1/1 [==============================] - 0s 19ms/step\n",
      "i love you\n",
      "1/1 [==============================] - 0s 18ms/step\n",
      "i love you\n",
      "1/1 [==============================] - 0s 19ms/step\n",
      "i love you\n",
      "1/1 [==============================] - 0s 18ms/step\n",
      "i love you\n",
      "1/1 [==============================] - 0s 20ms/step\n",
      "i love you\n",
      "1/1 [==============================] - 0s 20ms/step\n",
      "i love you\n",
      "1/1 [==============================] - 0s 19ms/step\n",
      "i love you\n",
      "1/1 [==============================] - 0s 20ms/step\n",
      "i love you\n",
      "1/1 [==============================] - 0s 21ms/step\n",
      "i love you\n",
      "1/1 [==============================] - 0s 19ms/step\n",
      "i love you\n",
      "1/1 [==============================] - 0s 18ms/step\n",
      "i love you\n",
      "1/1 [==============================] - 0s 19ms/step\n",
      "i love you\n",
      "1/1 [==============================] - 0s 19ms/step\n",
      "i love you\n",
      "1/1 [==============================] - 0s 19ms/step\n",
      "i love you\n",
      "1/1 [==============================] - 0s 19ms/step\n",
      "i love you\n",
      "1/1 [==============================] - 0s 19ms/step\n",
      "i love you\n",
      "1/1 [==============================] - 0s 18ms/step\n",
      "i love you\n",
      "1/1 [==============================] - 0s 19ms/step\n",
      "i love you\n",
      "1/1 [==============================] - 0s 18ms/step\n",
      "i love you\n",
      "1/1 [==============================] - 0s 29ms/step\n",
      "i love you\n",
      "1/1 [==============================] - 0s 20ms/step\n",
      "i love you\n",
      "1/1 [==============================] - 0s 20ms/step\n",
      "i love you\n",
      "1/1 [==============================] - 0s 19ms/step\n",
      "i love you\n",
      "1/1 [==============================] - 0s 19ms/step\n",
      "i love you\n",
      "1/1 [==============================] - 0s 19ms/step\n",
      "i love you\n",
      "1/1 [==============================] - 0s 19ms/step\n",
      "i love you\n",
      "1/1 [==============================] - 0s 19ms/step\n",
      "i love you\n",
      "1/1 [==============================] - 0s 19ms/step\n",
      "i love you\n",
      "1/1 [==============================] - 0s 19ms/step\n",
      "i love you\n"
     ]
    }
   ],
   "source": [
    "sequence = []\n",
    "sentence = []\n",
    "predictions = []\n",
    "threshold = 0.7\n",
    "\n",
    "cap = cv2.VideoCapture(0)\n",
    "with mp_holistic.Holistic(min_detection_confidence=0.5, min_tracking_confidence=0.5) as holistic:\n",
    "    while cap.isOpened():\n",
    "        \n",
    "        ret, frame = cap.read()\n",
    "        \n",
    "        image, results = mediapipe_detection(frame, holistic)\n",
    "        \n",
    "        draw_styled_landmarks(image, results)\n",
    "        \n",
    "        keypoints = extract_keypoints(results)\n",
    "        sequence.append(keypoints)\n",
    "        sequence = sequence[-30:]\n",
    "        \n",
    "        if len(sequence) == 30:\n",
    "            res = model.predict(np.expand_dims(sequence, axis=0))[0]\n",
    "            print(actions[np.argmax(res)])\n",
    "            predictions.append(np.argmax(res))\n",
    "            \n",
    "            if np.unique(predictions[-10:])[0]==np.argmax(res):    \n",
    "                if res[np.argmax(res)] > threshold:\n",
    "                                if len(sentence) > 0:\n",
    "                                    if actions[np.argmax(res)]  != sentence[-1]:\n",
    "                                        sentence.append(actions[np.argmax(res)])\n",
    "                                \n",
    "                                else:\n",
    "                                    sentence.append(actions[np.argmax(res)])\n",
    "            \n",
    "            if len(sentence) > 5:\n",
    "                sentence = sentence[-5:]\n",
    "                \n",
    "            image = prob_viz(res, actions, image, colors)    \n",
    "            \n",
    "        # cv2.rectangle(image, (0,0), (640,40), (245, 117, 16), -1)\n",
    "        # cv2.putText(image, ' '.join(sentence), (3,30),\n",
    "        #             cv2.FONT_HERSHEY_SIMPLEX, 1, (255, 255, 255), 2, cv2.LINE_AA)\n",
    "            \n",
    "        \n",
    "        cv2.imshow('Feed', image)\n",
    "        \n",
    "        if(cv2.waitKey(10) & 0xFF == ord('q')):\n",
    "            break\n",
    "        \n",
    "    cap.release()\n",
    "    cv2.destroyAllWindows()"
   ],
   "metadata": {
    "collapsed": false,
    "ExecuteTime": {
     "end_time": "2023-10-29T08:07:23.764749400Z",
     "start_time": "2023-10-29T08:06:21.081123600Z"
    }
   },
   "id": "c574033aef176540"
  },
  {
   "cell_type": "code",
   "execution_count": 133,
   "outputs": [],
   "source": [],
   "metadata": {
    "collapsed": false,
    "ExecuteTime": {
     "end_time": "2023-10-28T20:05:12.384911500Z",
     "start_time": "2023-10-28T20:05:12.381902400Z"
    }
   },
   "id": "fa16579011f2ab6e"
  },
  {
   "cell_type": "code",
   "execution_count": 133,
   "outputs": [],
   "source": [],
   "metadata": {
    "collapsed": false,
    "ExecuteTime": {
     "end_time": "2023-10-28T20:05:12.911808900Z",
     "start_time": "2023-10-28T20:05:12.908796800Z"
    }
   },
   "id": "5ad91d50f3c8538"
  },
  {
   "cell_type": "code",
   "execution_count": null,
   "outputs": [],
   "source": [],
   "metadata": {
    "collapsed": false
   },
   "id": "ab5e604bff84ac90"
  }
 ],
 "metadata": {
  "kernelspec": {
   "display_name": "Python 3",
   "language": "python",
   "name": "python3"
  },
  "language_info": {
   "codemirror_mode": {
    "name": "ipython",
    "version": 2
   },
   "file_extension": ".py",
   "mimetype": "text/x-python",
   "name": "python",
   "nbconvert_exporter": "python",
   "pygments_lexer": "ipython2",
   "version": "2.7.6"
  }
 },
 "nbformat": 4,
 "nbformat_minor": 5
}
